{
 "cells": [
  {
   "cell_type": "code",
   "execution_count": 2,
   "metadata": {},
   "outputs": [],
   "source": [
    "%matplotlib inline\n",
    "import matplotlib.pyplot as plt\n",
    "from BabelViscoFDTD.H5pySimple import ReadFromH5py, SaveToH5py\n",
    "import numpy as np"
   ]
  },
  {
   "cell_type": "code",
   "execution_count": 35,
   "metadata": {},
   "outputs": [],
   "source": [
    "Skull=ReadFromH5py(r'D:/Shirshak/Research/BabelBrain/Tests/3880\\FInalMask.h5')"
   ]
  },
  {
   "cell_type": "code",
   "execution_count": 36,
   "metadata": {},
   "outputs": [
    {
     "name": "stdout",
     "output_type": "stream",
     "text": [
      "dict_keys(['FinalMask'])\n"
     ]
    }
   ],
   "source": [
    "print(Skull.keys())"
   ]
  },
  {
   "cell_type": "code",
   "execution_count": 37,
   "metadata": {},
   "outputs": [],
   "source": [
    "unique, counts = np.unique(Skull['FinalMask'], return_counts=True)"
   ]
  },
  {
   "cell_type": "code",
   "execution_count": 38,
   "metadata": {},
   "outputs": [
    {
     "name": "stdout",
     "output_type": "stream",
     "text": [
      "[0 2 3 5]\n",
      "[6035137   90055  390339       1]\n"
     ]
    }
   ],
   "source": [
    "print(unique)\n",
    "print(counts)"
   ]
  },
  {
   "cell_type": "code",
   "execution_count": 7,
   "metadata": {},
   "outputs": [],
   "source": [
    "# Water['z_vec']*=1e3\n",
    "Skull['z_vec']*=1e3\n",
    "Skull['x_vec']*=1e3\n",
    "Skull['y_vec']*=1e3\n",
    "Skull['MaterialMap'][Skull['MaterialMap']==3]=2\n",
    "Skull['MaterialMap'][Skull['MaterialMap']==4]=3"
   ]
  },
  {
   "cell_type": "code",
   "execution_count": 28,
   "metadata": {},
   "outputs": [
    {
     "name": "stdout",
     "output_type": "stream",
     "text": [
      "[[   0    0    0]\n",
      " [   0    0    1]\n",
      " [   0    0    2]\n",
      " ...\n",
      " [ 522 1096  357]\n",
      " [ 522 1096  358]\n",
      " [ 522 1096  359]]\n"
     ]
    }
   ],
   "source": [
    "# print(Skull['MaterialMap'].shape)\n",
    "print(np.argwhere(Skull['FinalMask']==0))\n",
    "# plt.imshow(Skull['MaterialMap'][10,:,:].T)"
   ]
  }
 ],
 "metadata": {
  "kernelspec": {
   "display_name": "BabelBrain",
   "language": "python",
   "name": "python3"
  },
  "language_info": {
   "codemirror_mode": {
    "name": "ipython",
    "version": 3
   },
   "file_extension": ".py",
   "mimetype": "text/x-python",
   "name": "python",
   "nbconvert_exporter": "python",
   "pygments_lexer": "ipython3",
   "version": "3.10.8"
  },
  "orig_nbformat": 4
 },
 "nbformat": 4,
 "nbformat_minor": 2
}
