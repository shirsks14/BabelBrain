{
 "cells": [
  {
   "cell_type": "code",
   "execution_count": 1,
   "id": "e08386b1-19fa-4244-b77d-cf89066877b1",
   "metadata": {},
   "outputs": [],
   "source": [
    "# import stl\n",
    "from stl import mesh\n",
    "import numpy as np"
   ]
  },
  {
   "cell_type": "code",
   "execution_count": 2,
   "id": "6e7f47f8-4f0c-464f-965b-12c58e06e835",
   "metadata": {},
   "outputs": [],
   "source": [
    "def CreateBaseTrajectory(TotalDepth=80.0, #mm\n",
    "                         FinalAperture=80.00,\n",
    "                         FirstDepth=30.00,\n",
    "                         FinalDepth=70.00,\n",
    "                         Step=5.00,\n",
    "                         ArcStep=2.00):\n",
    "    \n",
    "    AllVert=np.zeros((0,3))\n",
    "    AllFaces=np.zeros((0,3),int)\n",
    "    \n",
    "    for nS  in np.arange(FirstDepth,FinalDepth,Step):\n",
    "        CurRadius=FinalAperture/2*nS/TotalDepth\n",
    "        Perimeter=CurRadius*2*np.pi\n",
    "        ThetaVec=np.linspace(0,2*np.pi,int(Perimeter/ArcStep))\n",
    "        X=np.cos(ThetaVec)*CurRadius\n",
    "        Y=np.sin(ThetaVec)*CurRadius\n",
    "        vertices=np.zeros((len(X)+1,3))\n",
    "        vertices[:,2]=-nS #Z coordinate\n",
    "        vertices[1:,0]=X\n",
    "        vertices[1:,1]=Y\n",
    "        faces=np.zeros((len(X)-1,3),int)\n",
    "        faces[:,1]=np.arange(len(X)-1)+1\n",
    "        faces[:,2]=np.arange(len(X)-1)+2\n",
    "        faces+=AllVert.shape[0]\n",
    "        \n",
    "        AllVert=np.vstack((AllVert,vertices))\n",
    "        AllFaces=np.vstack((AllFaces,faces))\n",
    "        \n",
    "    trajectory = mesh.Mesh(np.zeros(AllFaces.shape[0], dtype=mesh.Mesh.dtype))\n",
    "    for i, f in enumerate(AllFaces):\n",
    "        for j in range(3):\n",
    "            trajectory.vectors[i][j] = AllVert[f[j],:]\n",
    "\n",
    "    # Write the mesh to file \"cube.stl\"\n",
    "    return trajectory\n",
    "    "
   ]
  },
  {
   "cell_type": "code",
   "execution_count": 3,
   "id": "d64e3139-ed41-42b4-b91d-ac51fa09d574",
   "metadata": {},
   "outputs": [],
   "source": [
    "trajectory=CreateBaseTrajectory()\n",
    "# needle=mesh.Mesh.from_file('NeedleModel.stl')\n",
    "# combined = mesh.Mesh(np.concatenate([m.data for m in [trajectory,needle]]))\n",
    "# combined.save('PlanningModels/Trajectory-30-70-F#1.stl')"
   ]
  },
  {
   "cell_type": "code",
   "execution_count": 5,
   "id": "9cb74fac-9f1e-4ea6-9c07-c926b8e5f89a",
   "metadata": {},
   "outputs": [],
   "source": [
    "trajectory=CreateBaseTrajectory(FirstDepth=20,FinalDepth=60)\n",
    "# needle=mesh.Mesh.from_file('NeedleModel.stl')\n",
    "# combined = mesh.Mesh(np.concatenate([m.data for m in [trajectory,needle]]))\n",
    "# combined.save('PlanningModels/Trajectory-20-60-F#1.stl')"
   ]
  },
  {
   "cell_type": "code",
   "execution_count": 6,
   "id": "3a6dae18-bd8e-4cfd-bd24-88c2e9ed4b15",
   "metadata": {},
   "outputs": [],
   "source": [
    "trajectory=CreateBaseTrajectory(FirstDepth=50,FinalDepth=90)\n",
    "# needle=mesh.Mesh.from_file('NeedleModel.stl')\n",
    "# combined = mesh.Mesh(np.concatenate([m.data for m in [trajectory,needle]]))\n",
    "# combined.save('PlanningModels/Trajectory-50-90-F#1.stl')"
   ]
  },
  {
   "cell_type": "code",
   "execution_count": null,
   "id": "0ab29843-74f8-4750-898e-184e506189f4",
   "metadata": {},
   "outputs": [],
   "source": [
    "trajectory=CreateBaseTrajectory()"
   ]
  },
  {
   "cell_type": "code",
   "execution_count": 2,
   "id": "225bd411-caeb-4a8f-8c34-cc4d4487027f",
   "metadata": {},
   "outputs": [],
   "source": [
    "from scipy.spatial.transform import Rotation as R\n",
    "import os\n",
    "import vtk\n",
    "\n",
    "\n",
    "def vtkmatrix_to_numpy(matrix):\n",
    "    \"\"\"\n",
    "    Copies the elements of a vtkMatrix4x4 into a numpy array.\n",
    "\n",
    "    :param matrix: The matrix to be copied into an array.\n",
    "    :type matrix: vtk.vtkMatrix4x4\n",
    "    :rtype: numpy.ndarray\n",
    "    \"\"\"\n",
    "    m = np.ones((4, 4))\n",
    "    for i in range(4):\n",
    "        for j in range(4):\n",
    "            m[i, j] = matrix.GetElement(i, j)\n",
    "    return m\n",
    "\n",
    "def rigid_transform(CTPoints,MtPoints, invert=False):\n",
    "    '''\n",
    "    Input: (6, 3) numpy arrays\n",
    "    Output: vtkMatrix4x4\n",
    "    Calculates the rigid transformation from CTPoints to MtPoints\n",
    "    '''\n",
    "    vtkCTPoints = vtk.vtkPoints()\n",
    "    vtkMotorPoints = vtk.vtkPoints()\n",
    "    for i,ctLandmarks in enumerate(CTPoints):\n",
    "        motorLandmarks = MtPoints[i]\n",
    "        vtkCTPoints.InsertNextPoint(ctLandmarks[0],ctLandmarks[1],ctLandmarks[2])\n",
    "        vtkMotorPoints.InsertNextPoint(motorLandmarks[0],motorLandmarks[1],motorLandmarks[2])\n",
    "\n",
    "    # Create landmark transform object that computes registration\n",
    "\n",
    "    landmarkTransform = vtk.vtkLandmarkTransform()\n",
    "    landmarkTransform.SetSourceLandmarks( vtkCTPoints )\n",
    "    landmarkTransform.SetTargetLandmarks( vtkMotorPoints )\n",
    "    landmarkTransform.SetModeToRigidBody()\n",
    "    if invert:\n",
    "        landmarkTransform.Inverse()\n",
    "    landmarkTransform.Update()\n",
    "\n",
    "    transformation = vtk.vtkMatrix4x4()\n",
    "    landmarkTransform.GetMatrix( transformation )\n",
    "    det = transformation.Determinant()\n",
    "    if det < 1e-8:\n",
    "        print('Unstable registration. Check input for collinear points.')\n",
    "\n",
    "    return transformation    \n",
    "\n",
    "def BSight_to_itk(BSight_transform):\n",
    "    ras2lps = np.diag([-1, -1, 1, 1])\n",
    "    in_trans=BSight_transform.copy()\n",
    "    in_trans[:3,:3]=np.diagflat([-1,-1,-1])@in_trans[:3,:3]\n",
    "    transform_to_LPS = ras2lps @  np.linalg.inv(in_trans) @ ras2lps\n",
    "    return transform_to_LPS\n",
    "\n",
    "def itk_to_BSight(itk_transform):\n",
    "    # ITK transform: from parent, using LPS coordinate system\n",
    "    # Transform displayed in Slicer: to parent, using RAS coordinate system\n",
    "    ras2lps = np.diag([-1, -1, 1, 1])\n",
    "    transform_from_parent_RAS = np.linalg.inv(ras2lps @ itk_transform @ ras2lps)\n",
    "    transform_from_parent_RAS[:3,:3]=np.diagflat([-1,-1,-1])@transform_from_parent_RAS[:3,:3]\n",
    "    return transform_from_parent_RAS\n",
    "\n",
    "\n",
    "\n",
    "def createTrajectory(CTLandmarks,MotorLandmarks,folder,trajName):\n",
    "    #  traj = rigid_transform_3D(MotorLandmarks.T,CTLandmarks.T)\n",
    "     traj = rigid_transform(CTLandmarks,MotorLandmarks,invert=True)\n",
    "    #  print(traj)\n",
    "     traj = vtkmatrix_to_numpy(traj)\n",
    "     traj = BSight_to_itk(traj)\n",
    "    #  print(traj)\n",
    "    #  traj = np.r_[traj,[[0,0,0,1]]]\n",
    "     slicer_rotate = np.array([[-1 ,0, 0,0],[0,-1,0,0],[0,0,-1,0],[0,0,0,-1]])\n",
    "    # #  slicer_rotate = np.array([[-1 ,0, 0,0],[0,-1,0,0],[0,0,1,0],[0,0,0,1]])\n",
    "     traj = np.matmul(slicer_rotate,traj)\n",
    "     traj = np.delete(traj,3,0)\n",
    "     t = traj[:,3]\n",
    "     traj = np.delete(traj,3,1)\n",
    "     traj =np.r_[traj,[t]]\n",
    "     strTraj = \"#Insight Transform File V1.0 \\n#Transform 0 \\nTransform: AffineTransform_double_3_3\\nParameters: \" +' '.join(map(str, traj.flatten())) + \"\\nFixedParameters: 0 0 0\"\n",
    "     with open(folder+trajName, 'w') as file:\n",
    "        file.write(strTraj)\n",
    "\n",
    "def createTrajectoryTest(CTLandmarks,MotorLandmarks,folder,trajName):\n",
    "     traj = rigid_transform_3D(MotorLandmarks.T,CTLandmarks.T)\n",
    "     print(traj)\n",
    "     traj = np.r_[traj,[[0,0,0,1]]]\n",
    "     traj = np.linalg.inv(traj)\n",
    "    #  traj = np.linalg.inv(traj)\n",
    "     traj = BSight_to_itk(traj)\n",
    "    #  traj = np.r_[traj,[[0,0,0,1]]]\n",
    "     slicer_rotate = np.array([[-1 ,0, 0,0],[0,-1,0,0],[0,0,-1,0],[0,0,0,-1]])\n",
    "    #  slicer_rotate = np.array([[-1 ,0, 0,0],[0,-1,0,0],[0,0,1,0],[0,0,0,1]])\n",
    "     traj = np.matmul(slicer_rotate,traj)\n",
    "     traj = np.delete(traj,3,0)\n",
    "     t = traj[:,3]\n",
    "     traj = np.delete(traj,3,1)\n",
    "     traj =np.r_[traj,[t]]\n",
    "     print(traj)\n",
    "    #  strTraj = \"#Insight Transform File V1.0 \\n#Transform 0 \\nTransform: AffineTransform_double_3_3\\nParameters: \" +' '.join(map(str, traj.flatten())) + \"\\nFixedParameters: 0 0 0\"\n",
    "    #  with open(folder+trajName, 'w') as file:\n",
    "    #     file.write(strTraj)\n",
    "import re\n",
    "def read_itk_affine_transform(filename):\n",
    "    with open(filename) as f:\n",
    "        tfm_file_lines = f.readlines()\n",
    "    # parse the transform parameters\n",
    "    match = re.match(\"Transform: AffineTransform_[a-z]+_([0-9]+)_([0-9]+)\", tfm_file_lines[2])\n",
    "    if not match or match.group(1) != '3' or match.group(2) != '3':\n",
    "        raise ValueError(f\"{filename} is not an ITK 3D affine transform file\")\n",
    "    p = np.array( tfm_file_lines[3].split()[1:], dtype=np.float64 )\n",
    "    # assemble 4x4 matrix from ITK transform parameters\n",
    "    itk_transform = np.array([\n",
    "        [p[0], p[1], p[2], p[9]],\n",
    "        [p[3], p[4], p[5], p[10]],\n",
    "        [p[6], p[7], p[8], p[11]],\n",
    "        [0, 0, 0, 1]])\n",
    "    return itk_transform\n"
   ]
  },
  {
   "cell_type": "code",
   "execution_count": 16,
   "id": "3c4f0862",
   "metadata": {},
   "outputs": [],
   "source": [
    "import matplotlib.pyplot as plt"
   ]
  },
  {
   "cell_type": "code",
   "execution_count": 3,
   "id": "07722851",
   "metadata": {},
   "outputs": [
    {
     "name": "stdout",
     "output_type": "stream",
     "text": [
      "[[ 42.464  -9.684 -62.319]\n",
      " [ 89.3    -0.586 -30.1  ]\n",
      " [103.9   -11.561  20.608]\n",
      " [ -2.211 -82.661 102.2  ]\n",
      " [-45.733 -91.726  74.01 ]\n",
      " [-64.552 -83.371  22.508]]\n",
      "[[ -2.211 -82.661 102.2  ]\n",
      " [-45.733 -91.726  74.01 ]\n",
      " [-64.552 -83.371  22.508]\n",
      " [ 42.464  -9.684 -62.319]\n",
      " [ 89.3    -0.586 -30.1  ]\n",
      " [103.9   -11.561  20.608]]\n"
     ]
    }
   ],
   "source": [
    "CTLocations3880_1 = np.array([[-64.552,-83.371, 22.508], [-45.733, -91.726, 74.010], [-2.211, -82.661, 102.200], [42.464, -9.684, -62.319],[89.300, -0.586, -30.100],[103.900, -11.561, 20.608]]) # Steering set for test\n",
    "CTLocations3880_1 = np.array([CTLocations3880_1[3], CTLocations3880_1[4], CTLocations3880_1[5], CTLocations3880_1[2],CTLocations3880_1[1],CTLocations3880_1[0]])\n",
    "CTLocations3880_2 = np.array([CTLocations3880_1[3], CTLocations3880_1[4], CTLocations3880_1[5], CTLocations3880_1[0],CTLocations3880_1[1],CTLocations3880_1[2]]) # Steering set for test. Rotated skull from the first test in the tank\n",
    "print(CTLocations3880_1)\n",
    "print(CTLocations3880_2)"
   ]
  },
  {
   "cell_type": "code",
   "execution_count": 28,
   "id": "572b229e",
   "metadata": {},
   "outputs": [],
   "source": [
    "CTLocations4000 = np.array([[86.078, -9.082, 49.656], [52.911, -0.199, 84.747],[8.213, -3.681, 98.972],[-67.601, -83.921,-33.451],[-34.152,90.639,-66.243],[13.295,-84.965,-80.495]])"
   ]
  },
  {
   "cell_type": "code",
   "execution_count": 42,
   "id": "dd1e3bd2",
   "metadata": {},
   "outputs": [],
   "source": [
    "MotorLocations4000_Orig = [None]*4\n",
    "MotorLocations4000_Orig[0] = np.array([[0,0,0,],[-46.51, 15, 1],[94.01,3.5,3.5],[91.76,169.5,6.49],[-47.5,-181.75,5],[-0.25,-167,2]])\n",
    "MotorLocations4000_Orig[1] = np.array([[-16.76,-13.5,24.52],[-61.51,4,-13.52],[-105.26,-4.75,2.49],[-103.01,-174.49,35.49],[-59.52,-189.25,26],[-14.02,-178.25,10.49]])\n",
    "MotorLocations4000_Orig[2] = np.array([[11,-9.49,-2.51],[-36.01,2.51,-16.02],[-81.51,-10.99,-22.02],[-76.51,-179.98,14.99],[-32,-188.99,27.49],[13.75,-173,35.49]])\n",
    "MotorLocations4000_Orig[3] = np.array([[-6.5,5.76,3.98],[-53,19.76,11.98],[-99.26,7.76,17.98],[-96.76,-164.24,1.97],[-51,-176.74,-4.53],[-4.01,-161.25,-9.53]])"
   ]
  },
  {
   "cell_type": "code",
   "execution_count": 232,
   "id": "efd858db",
   "metadata": {},
   "outputs": [
    {
     "name": "stdout",
     "output_type": "stream",
     "text": [
      "[[-44.49 -77.54  -9.51]]\n",
      "transLandmarkfromfocus: [[71.74 78.25 83.99]]\n"
     ]
    }
   ],
   "source": [
    "# transLandmarkfromA = np.array([[41.5,108,35.7]])\n",
    "transLandmarkfromA = np.array([[27.25,0.71,74.48]])# 3880\n",
    "\n",
    "\n",
    "\n",
    "focusLocationFromLandmark = np.array([[-67.25,-72.25,-82]])\n",
    "# focusLocationFromA = np.array([[-67.25,-72.25,-82]])\n",
    "# focusLocationFromA = np.array([[41.5,108,35.7]]) # Calculated from old one, not correct\n",
    "# focusLocationFromA = np.array([[-49.5,-75,-35.7]]) # Test locaton at the center of the lanmark\n",
    "#3880\n",
    "focusLocationFromA = np.array([[-44.49,-77.54,-9.51]]) # Test locaton at the center of the lanmark\n",
    "print(focusLocationFromA)\n",
    "print('transLandmarkfromfocus:', -(focusLocationFromA-transLandmarkfromA))"
   ]
  },
  {
   "cell_type": "code",
   "execution_count": 35,
   "id": "a2c8e482",
   "metadata": {},
   "outputs": [],
   "source": [
    "# 4000 Feb 15, 2024\n",
    "focusLocationFromA = np.array([[-50.52,-85.76,-0.53]]) # Test locaton at the center of the lanmark"
   ]
  },
  {
   "cell_type": "code",
   "execution_count": 217,
   "id": "408dac3a",
   "metadata": {},
   "outputs": [],
   "source": [
    "MotorLocations3880_Orig = [None]*5\n",
    "MotorLocations3880_Orig[0] = np.array([[0,0, 0], [-50.5, 19.5, -0.52], [-102, 1.5, 2.02], [-105, -153.5, 4],[-50.5,-173.01, 3.5],[-1.5, -151.5, 2.5]]) # Steering set for test\n",
    "MotorLocations3880_Orig[1] = np.array([[9.5,3, 17.5], [-38.5, 23.25, 8.5], [-92.48, 5.22, -1.02], [-95.48, -149.78, -10.2],[-41.24,-169.27, -2.02],[7.02, -148.02, 7.47]]) # Steering set for test\n",
    "MotorLocations3880_Orig[2]= np.array([[-1.23,-5.77,-8.55], [-50.74, 13.73, -9.55], [-103.73, -3.78, -6.55], [-105.99, -158.02, 11.95],[-51.25,-177.52, 12.96],[-2.48, -156.02, 8.96]]) # Steering set for test\n",
    "MotorLocations3880_Orig[3] = np.array([[-0.99,3.49, 5.5], [-50.48, 23.24, 7.5], [-103.24, 5.24, 6.99], [-105.74, -149.76, -1.02],[50.99,-169.26, -3.52],[-1.99, -147.76, -3.51]]) # Steering set for test\n",
    "MotorLocations3880_Orig[4] = np.array([[-10.75,3.73, -2.51], [-59.49, 23.23, 7.98], [-110.5, 3.74, 16.99], [-113.25, -150.27, 8.99],[-59.49,-169.51, -2.5],[-11.49, -147.01, -10]]) # Steering set for test\n"
   ]
  },
  {
   "cell_type": "code",
   "execution_count": 4,
   "id": "01cad707",
   "metadata": {},
   "outputs": [],
   "source": [
    "# April 10, 2024\n",
    "MotorLocations3880_Orig = [None]*1\n",
    "MotorLocations3880_Orig[0] = np.array([[0,0, 0], [-49.26, 20.49, 1], [-101.76, 2, 2-0.01], [-104.76, -153, -3.01],[-49.76,-172.51, -3.51],[-1.26, -151, -3.5]]) # Steering set for test"
   ]
  },
  {
   "cell_type": "code",
   "execution_count": 5,
   "id": "204a2ed1",
   "metadata": {},
   "outputs": [],
   "source": [
    "focusLocationFromA = np.array([[-41.78,-76.77,-21.5]]) # Test locaton at the center of the lanmark"
   ]
  },
  {
   "cell_type": "code",
   "execution_count": 6,
   "id": "0b06f482",
   "metadata": {},
   "outputs": [],
   "source": [
    "LocationNo = 0"
   ]
  },
  {
   "cell_type": "code",
   "execution_count": 7,
   "id": "a9b9809a",
   "metadata": {},
   "outputs": [
    {
     "name": "stdout",
     "output_type": "stream",
     "text": [
      "[[ 41.78  76.77  21.5 ]\n",
      " [ -7.48  97.26  22.5 ]\n",
      " [-59.98  78.77  23.49]\n",
      " [-62.98 -76.23  18.49]\n",
      " [ -7.98 -95.74  17.99]\n",
      " [ 40.52 -74.23  18.  ]]\n"
     ]
    }
   ],
   "source": [
    "MotorLocations3880 = MotorLocations3880_Orig[LocationNo] - focusLocationFromA\n",
    "print(MotorLocations3880)\n"
   ]
  },
  {
   "cell_type": "code",
   "execution_count": 8,
   "id": "6a054de2",
   "metadata": {},
   "outputs": [
    {
     "name": "stdout",
     "output_type": "stream",
     "text": [
      "[[ 41.78  76.77  21.5 ]\n",
      " [ -7.48  97.26  22.5 ]\n",
      " [-59.98  78.77  23.49]\n",
      " [-62.98 -76.23  18.49]\n",
      " [ -7.98 -95.74  17.99]\n",
      " [ 40.52 -74.23  18.  ]]\n"
     ]
    }
   ],
   "source": [
    "MotorLocations3880 = MotorLocations3880_Orig[LocationNo] - focusLocationFromA\n",
    "MotorLocations = MotorLocations3880\n",
    "CTLocations = CTLocations3880_2\n",
    "print(MotorLocations3880)"
   ]
  },
  {
   "cell_type": "code",
   "execution_count": 43,
   "id": "6a123b0d",
   "metadata": {},
   "outputs": [
    {
     "name": "stdout",
     "output_type": "stream",
     "text": [
      "[[  61.52   76.27   -1.98]\n",
      " [  14.51   88.27  -15.49]\n",
      " [ -30.99   74.77  -21.49]\n",
      " [ -25.99  -94.22   15.52]\n",
      " [  18.52 -103.23   28.02]\n",
      " [  64.27  -87.24   36.02]]\n"
     ]
    }
   ],
   "source": [
    "MotorLocations4000 = MotorLocations4000_Orig[LocationNo] - focusLocationFromA\n",
    "MotorLocations = MotorLocations4000\n",
    "CTLocations = CTLocations4000\n",
    "print(MotorLocations4000)"
   ]
  },
  {
   "cell_type": "code",
   "execution_count": 9,
   "id": "395e6a6b",
   "metadata": {},
   "outputs": [],
   "source": [
    "folder = r'D:\\Shirshak\\Research\\BabelBrain\\Tests\\3880'\n",
    "date = 'April_10_2024'\n",
    "trajName = 'traj_location_'+date+'_'+str(LocationNo)+'.txt'\n",
    "createTrajectory(CTLandmarks=CTLocations,MotorLandmarks=MotorLocations,folder=folder+os.sep, trajName=trajName)"
   ]
  },
  {
   "cell_type": "code",
   "execution_count": null,
   "id": "468068f0",
   "metadata": {},
   "outputs": [],
   "source": [
    "x = MotorLocations3880_Orig[0][:,0]\n",
    "y = MotorLocations3880_Orig[0][:,1]\n",
    "plt.scatter(x,y,c='green')\n",
    "x = focusLocationFromA[0,0]\n",
    "y = focusLocationFromA[0,1]\n",
    "plt.scatter(x,y,c='red')\n",
    "ax = plt.gca()\n",
    "ax.set_aspect('equal', adjustable='box')"
   ]
  },
  {
   "cell_type": "code",
   "execution_count": 45,
   "id": "99b15c05",
   "metadata": {},
   "outputs": [
    {
     "data": {
      "image/png": "[encoded data removed]",
      "text/plain": [
       "<Figure size 640x480 with 1 Axes>"
      ]
     },
     "metadata": {},
     "output_type": "display_data"
    }
   ],
   "source": [
    "\n",
    "x = MotorLocations[:,0]\n",
    "y = MotorLocations[:,1]\n",
    "plt.scatter(x,y,c='green')\n",
    "focusat0 = np.array([[0,0,0]]) # Test locaton at the center of the lanmark\n",
    "x = focusat0[0,0]\n",
    "y = focusat0[0,1]\n",
    "plt.scatter(x,y,c='red')\n",
    "ax = plt.gca()\n",
    "ax.set_aspect('equal', adjustable='box')"
   ]
  },
  {
   "cell_type": "code",
   "execution_count": 202,
   "id": "ff37e01c",
   "metadata": {},
   "outputs": [
    {
     "name": "stdout",
     "output_type": "stream",
     "text": [
      "[[-6.14029057e-01  6.95124354e-01 -3.73858864e-01  6.93176572e+00]\n",
      " [ 1.94701131e-02  4.86864519e-01  8.73260474e-01 -1.43584013e+01]\n",
      " [-7.89043238e-01 -5.28928231e-01  3.12483111e-01  3.51675443e+01]\n",
      " [ 0.00000000e+00  0.00000000e+00  0.00000000e+00  1.00000000e+00]]\n"
     ]
    }
   ],
   "source": [
    "trajfile = r'D:\\Shirshak\\Research\\BabelBrain\\Tests\\3880\\traj_location_0.txt'\n",
    "traj_slicer = read_itk_affine_transform(trajfile)\n",
    "print(itk_to_BSight(traj_slicer))"
   ]
  },
  {
   "cell_type": "code",
   "execution_count": 209,
   "id": "1d759bd2",
   "metadata": {},
   "outputs": [
    {
     "name": "stdout",
     "output_type": "stream",
     "text": [
      "3.6780021750945173\n"
     ]
    }
   ],
   "source": [
    "import math\n",
    "print(math.sqrt(math.pow(2.21,2)+math.pow(2.94,2)))"
   ]
  },
  {
   "cell_type": "code",
   "execution_count": null,
   "id": "f753a4a1",
   "metadata": {},
   "outputs": [],
   "source": []
  }
 ],
 "metadata": {
  "kernelspec": {
   "display_name": "Python 3 (ipykernel)",
   "language": "python",
   "name": "python3"
  },
  "language_info": {
   "codemirror_mode": {
    "name": "ipython",
    "version": 3
   },
   "file_extension": ".py",
   "mimetype": "text/x-python",
   "name": "python",
   "nbconvert_exporter": "python",
   "pygments_lexer": "ipython3",
   "version": "3.10.8"
  }
 },
 "nbformat": 4,
 "nbformat_minor": 5
}
